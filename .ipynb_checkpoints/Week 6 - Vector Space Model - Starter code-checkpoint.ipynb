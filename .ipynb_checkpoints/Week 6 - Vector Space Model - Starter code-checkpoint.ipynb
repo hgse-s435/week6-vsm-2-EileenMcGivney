{
 "cells": [
  {
   "cell_type": "markdown",
   "metadata": {},
   "source": [
    "# Week 5 - Vector Space Model (VSM) and Topic Modeling"
   ]
  },
  {
   "cell_type": "markdown",
   "metadata": {},
   "source": [
    "Over the next weeks, we are going to re-implement Sherin's algorithm and apply it to the text data we've been working on last week! Here's our roadmap:\n",
    "\n",
    "**Week 6 - vectorization and linear algebra**\n",
    "6. Dampen: weight the frequency of words (1 + log[count])\n",
    "7. Scale: Normalize weighted frequency of words\n",
    "8. Direction: compute deviation vectors\n",
    "\n",
    "**Week 7 - Clustering**\n",
    "9. apply different unsupervised machine learning algorithms\n",
    "    * figure out how many clusters we want to keep\n",
    "    * inspect the results of the clustering algorithm\n",
    "\n",
    "**Week 8 - Visualizing the results**\n",
    "10. create visualizations to compare documents"
   ]
  },
  {
   "cell_type": "markdown",
   "metadata": {},
   "source": [
    "# WEEK 5 - DATA CLEANING"
   ]
  },
  {
   "cell_type": "markdown",
   "metadata": {},
   "source": [
    "## Step 1 - Data Retrieval"
   ]
  },
  {
   "cell_type": "code",
   "execution_count": 3,
   "metadata": {},
   "outputs": [],
   "source": [
    "##Setup\n",
    "# plot the graphs inline\n",
    "%matplotlib inline\n",
    "\n",
    "import os\n",
    "import re\n",
    "import glob\n",
    "\n",
    "import numpy as np\n",
    "import pandas as pd\n",
    "import matplotlib.pyplot as plt\n",
    "\n",
    "from collections import defaultdict"
   ]
  },
  {
   "cell_type": "code",
   "execution_count": 2,
   "metadata": {},
   "outputs": [
    {
     "name": "stdout",
     "output_type": "stream",
     "text": [
      "['./Papers/paper0.txt', './Papers/paper1.txt', './Papers/paper10.txt', './Papers/paper11.txt', './Papers/paper12.txt', './Papers/paper13.txt', './Papers/paper14.txt', './Papers/paper15.txt', './Papers/paper16.txt', './Papers/paper2.txt', './Papers/paper3.txt', './Papers/paper4.txt', './Papers/paper5.txt', './Papers/paper6.txt', './Papers/paper7.txt', './Papers/paper8.txt', './Papers/paper9.txt']\n"
     ]
    }
   ],
   "source": [
    "# using glob, find all the text files in the \"Papers\" folder\n",
    "import glob\n",
    "\n",
    "files = glob.glob('./Papers/*.txt')\n",
    "print(files)"
   ]
  },
  {
   "cell_type": "code",
   "execution_count": 3,
   "metadata": {},
   "outputs": [],
   "source": [
    "# get all the data from the text files into the \"documents\" list\n",
    "# P.S. make sure you use the 'utf-8' encoding\n",
    "documents = []\n",
    "\n",
    "for filename in files: \n",
    "    with open (filename, \"r\", encoding='utf-8') as f:\n",
    "        documents.append(f.read())"
   ]
  },
  {
   "cell_type": "code",
   "execution_count": 4,
   "metadata": {},
   "outputs": [
    {
     "data": {
      "text/plain": [
       "'\\x0czone out no more: mitigating mind wandering during\\ncomputerized reading\\nsidney k. d’mello, caitlin mills, robert bixler, & nigel bosch\\nuniversity of notre dame\\n118 haggar hall\\nnotre dame, in 46556, usa\\nsdmello@nd.edu\\n\\nabstract\\nmind wandering, defined as shifts in attention from task-related\\nprocessing to task-unrelated thoughts, is a ubiquitous\\nphenomenon that has a negative influence on performance and\\nproductivity in many contexts, including learning. we propose\\nthat next-generation learning technologies should have some\\nmechanism to detect and respond to mind wandering in real-time.\\ntowards this end, we developed a technology that automatically\\ndetects mind wandering from eye-gaze during learning from\\ninstructional texts. when mind wandering is detected, the\\ntechnology intervenes by posing just-in-time questions and\\nencouraging re-reading as needed. after multiple rounds of\\niterative refinement, we summatively compared the technology to\\na yoked-control in an experiment with 104 participants. the key\\ndependent variable was performance on a post-reading\\ncomprehension assessment. our results suggest that the\\ntechnology was successful in correcting comprehension deficits\\nattributed to mind wandering (d = .47 sigma) under specific\\nconditions, thereby highlighting the potential to improve learning\\nby “attending to attention.”\\n\\nkeywords\\nmind wandering; gaze tracking; student modeling; attentionaware.\\n\\n1. introduction\\ndespite our best efforts to write a clear and engaging paper,\\n'"
      ]
     },
     "execution_count": 4,
     "metadata": {},
     "output_type": "execute_result"
    }
   ],
   "source": [
    "# print the first 1000 characters of the first document to see what it \n",
    "# looks like (we'll use this as a sanity check below)\n",
    "documents[0][:1500]"
   ]
  },
  {
   "cell_type": "markdown",
   "metadata": {},
   "source": [
    "## Step 2 - Data Cleaning"
   ]
  },
  {
   "cell_type": "code",
   "execution_count": 5,
   "metadata": {},
   "outputs": [
    {
     "name": "stdout",
     "output_type": "stream",
     "text": [
      "50043 39318\n",
      "41110 35514\n",
      "49177 42621\n",
      "32277 28206\n",
      "40387 34778\n",
      "45258 42251\n",
      "40655 32734\n",
      "31574 28134\n",
      "42046 37649\n",
      "46761 42253\n",
      "47377 42978\n",
      "44037 40032\n",
      "37214 32762\n",
      "47851 41302\n",
      "42617 35102\n",
      "45724 39947\n",
      "47845 44059\n"
     ]
    }
   ],
   "source": [
    "# only select the text that's between the first occurence of the \n",
    "# the word \"abstract\" and the last occurence of the word \"reference\"\n",
    "# Optional: print the length of the string before and after, as a \n",
    "# sanity check\n",
    "# HINT: https://stackoverflow.com/questions/14496006/finding-last-occurrence-of-substring-in-string-replacing-that\n",
    "# read more about rfind: https://www.tutorialspoint.com/python/string_rfind.htm\n",
    "\n",
    "for i,doc in enumerate(documents):\n",
    "    print(len(documents[i]), end=' ')\n",
    "    # only keep the text after the abstract\n",
    "    doc = doc[doc.index('abstract'):doc.rfind('reference')]\n",
    "    # save the result\n",
    "    documents[i] = doc\n",
    "    # print the length of the resulting string\n",
    "    print(len(documents[i]))\n",
    "    \n",
    "# one liner:\n",
    "# documents = [doc[doc.index('abstract'):doc.rfind('reference')] for doc in documents]"
   ]
  },
  {
   "cell_type": "code",
   "execution_count": 6,
   "metadata": {},
   "outputs": [
    {
     "name": "stdout",
     "output_type": "stream",
     "text": [
      "abstract mind wandering, defined as shifts in attention from task-related processing to task-unrelated thoughts, is a ubiquitous phenomenon that has a negative influence on performance and productivity in many contexts, including learning. we propose that next-generation learning technologies should have some mechanism to detect and respond to mind wandering in real-time. towards this end, we developed a technology that automatically detects mind wandering from eye-gaze during learning from instructional texts. when mind wandering is detected, the technology intervenes by posing just-in-time questions and encouraging re-reading as needed. after multiple rounds of iterative refinement, we summatively compared the technology to a yoked-control in an experiment with 104 participants. the key dependent variable was performance on a post-reading comprehension assessment. our results suggest that the technology was successful in correcting comprehension deficits attributed to mind wandering \n"
     ]
    }
   ],
   "source": [
    "# replace carriage returns (i.e., \"\\n\") with a white space\n",
    "# check that the result looks okay by printing the \n",
    "# first 1000 characters of the 1st doc:\n",
    "\n",
    "documents = [doc.replace('\\n', ' ') for doc in documents]\n",
    "print(documents[0][:1000])"
   ]
  },
  {
   "cell_type": "code",
   "execution_count": 7,
   "metadata": {},
   "outputs": [
    {
     "name": "stdout",
     "output_type": "stream",
     "text": [
      "abstract mind wandering  defined as shifts in attention from task related processing to task unrelated thoughts  is a ubiquitous phenomenon that has a negative influence on performance and productivity in many contexts  including learning  we propose that next generation learning technologies should have some mechanism to detect and respond to mind wandering in real time  towards this end  we developed a technology that automatically detects mind wandering from eye gaze during learning from instructional texts  when mind wandering is detected  the technology intervenes by posing just in time questions and encouraging re reading as needed  after multiple rounds of iterative refinement  we summatively compared the technology to a yoked control in an experiment with 104 participants  the key dependent variable was performance on a post reading comprehension assessment  our results suggest that the technology was successful in correcting comprehension deficits attributed to mind wandering \n"
     ]
    }
   ],
   "source": [
    "# replace the punctation below by a white space\n",
    "# check that the result looks okay \n",
    "# (e.g., by print the first 1000 characters of the 1st doc)\n",
    "\n",
    "punctuation = ['.', '...', '!', '#', '\"', '%', '$', \"'\", '&', ')', \n",
    "               '(', '+', '*', '-', ',', '/', '.', ';', ':', '=', \n",
    "               '<', '?', '>', '@', '\",', '\".', '[', ']', '\\\\', ',',\n",
    "               '_', '^', '`', '{', '}', '|', '~', '−', '”', '“', '’']\n",
    "\n",
    "\n",
    "# remove ponctuation\n",
    "for i,doc in enumerate(documents): \n",
    "    for punc in punctuation: \n",
    "        doc = doc.replace(punc, ' ')\n",
    "    documents[i] = doc\n",
    "    \n",
    "print(documents[0][:1000])"
   ]
  },
  {
   "cell_type": "code",
   "execution_count": 8,
   "metadata": {},
   "outputs": [
    {
     "name": "stdout",
     "output_type": "stream",
     "text": [
      "abstract educational systems typically contain a large pool of items  questions  problems   using data mining techniques we can group these items into knowledge components  detect duplicated items and outliers  and identify missing items  to these ends  it is useful to analyze item similarities  which can be used as input to clustering or visualization techniques  we describe and evaluate different measures of item similarity that are based only on learners  performance data  which makes them widely applicable  we provide evaluation using both simulated data and real data from several educational systems  the results show that pearson correlation is a suitable similarity measure and that response times are useful for improving stability of similarity measures when the scope of available data is small     introduction interactive educational systems offer learners items  problems  questions  for solving  realistic educational systems typically contain a large number of such items  this \n"
     ]
    }
   ],
   "source": [
    "# remove numbers by either a white space or the word \"number\"\n",
    "# again, print the first 1000 characters of the first document\n",
    "# to check that you're doing the right thing\n",
    "for i,doc in enumerate(documents): \n",
    "    for num in range(10):\n",
    "        doc = doc.replace(str(num), '')\n",
    "    documents[i] = doc\n",
    "\n",
    "print(documents[1][:1000])"
   ]
  },
  {
   "cell_type": "code",
   "execution_count": 9,
   "metadata": {},
   "outputs": [
    {
     "name": "stdout",
     "output_type": "stream",
     "text": [
      "abstract mind wandering  defined shifts attention task related processing task unrelated thoughts  ubiquitous phenomenon negative influence performance productivity many contexts  including learning  propose next generation learning technologies mechanism detect respond mind wandering real time  towards end  developed technology automatically detects mind wandering eye gaze learning instructional texts  mind wandering detected  technology intervenes posing time questions encouraging re reading needed  multiple rounds iterative refinement  summatively compared technology yoked control experiment  participants  key dependent variable performance post reading comprehension assessment  results suggest technology successful correcting comprehension deficits attributed mind wandering  d     sigma  specific conditions  thereby highlighting potential improve learning  attending attention    keywords mind wandering  gaze tracking  student modeling  attentionaware     introduction despite best e\n"
     ]
    }
   ],
   "source": [
    "# Remove the stop words below from our documents\n",
    "# print the first 1000 characters of the first document\n",
    "stop_words = ['i', 'me', 'my', 'myself', 'we', 'our', 'ours', \n",
    "              'ourselves', 'you', 'your', 'yours', 'yourself', \n",
    "              'yourselves', 'he', 'him', 'his', 'himself', 'she', \n",
    "              'her', 'hers', 'herself', 'it', 'its', 'itself', \n",
    "              'they', 'them', 'their', 'theirs', 'themselves', \n",
    "              'what', 'which', 'who', 'whom', 'this', 'that', \n",
    "              'these', 'those', 'am', 'is', 'are', 'was', 'were', \n",
    "              'be', 'been', 'being', 'have', 'has', 'had', 'having', \n",
    "              'do', 'does', 'did', 'doing', 'a', 'an', 'the', 'and', \n",
    "              'but', 'if', 'or', 'because', 'as', 'until', 'while', \n",
    "              'of', 'at', 'by', 'for', 'with', 'about', 'against', \n",
    "              'between', 'into', 'through', 'during', 'before', \n",
    "              'after', 'above', 'below', 'to', 'from', 'up', 'down', \n",
    "              'in', 'out', 'on', 'off', 'over', 'under', 'again', \n",
    "              'further', 'then', 'once', 'here', 'there', 'when', \n",
    "              'where', 'why', 'how', 'all', 'any', 'both', 'each', \n",
    "              'few', 'more', 'most', 'other', 'some', 'such', 'no', \n",
    "              'nor', 'not', 'only', 'own', 'same', 'so', 'than', \n",
    "              'too', 'very', 's', 't', 'can', 'will', \n",
    "              'just', 'don', 'should', 'now']\n",
    "\n",
    "\n",
    "# remove stop words\n",
    "for i,doc in enumerate(documents):\n",
    "    for stop_word in stop_words:\n",
    "        doc = doc.replace(' ' + stop_word + ' ', ' ')\n",
    "    documents[i] = doc\n",
    "\n",
    "print(documents[0][:1000])\n"
   ]
  },
  {
   "cell_type": "code",
   "execution_count": 10,
   "metadata": {},
   "outputs": [
    {
     "name": "stdout",
     "output_type": "stream",
     "text": [
      "abstract mind wandering defined shifts attention task related processing task unrelated thoughts ubiquitous phenomenon negative influence performance productivity many contexts including learning propose next generation learning technologies mechanism detect respond mind wandering real time towards end developed technology automatically detects mind wandering eye gaze learning instructional texts mind wandering detected technology intervenes posing time questions encouraging reading needed multiple rounds iterative refinement summatively compared technology yoked control experiment participants key dependent variable performance post reading comprehension assessment results suggest technology successful correcting comprehension deficits attributed mind wandering sigma specific conditions thereby highlighting potential improve learning attending attention keywords mind wandering gaze tracking student modeling attentionaware introduction despite best efforts write clear engaging paper ch\n"
     ]
    }
   ],
   "source": [
    "# remove words with one and two characters (e.g., 'd', 'er', etc.)\n",
    "# print the first 1000 characters of the first document\n",
    "\n",
    "for i,doc in enumerate(documents):  \n",
    "    doc = [x for x in doc.split() if len(x) > 2]\n",
    "    doc = \" \".join(doc)\n",
    "    documents[i] = doc\n",
    "\n",
    "\n",
    "print(documents[0][:1000])"
   ]
  },
  {
   "cell_type": "markdown",
   "metadata": {},
   "source": [
    "\n",
    "### Putting it all together"
   ]
  },
  {
   "cell_type": "code",
   "execution_count": 11,
   "metadata": {},
   "outputs": [],
   "source": [
    "# package all of your work above into a function that cleans a given document\n",
    "\n",
    "def clean_list_of_documents(documents):\n",
    "    \n",
    "    cleaned_docs = []\n",
    "\n",
    "    for i,doc in enumerate(documents):\n",
    "        # only keep the text after the abstract\n",
    "        doc = doc[doc.index('abstract'):]\n",
    "        # only keep the text before the references\n",
    "        doc = doc[:doc.rfind('reference')]\n",
    "        # replace return carriage with white space\n",
    "        doc = doc.replace('\\n', ' ')\n",
    "        # remove ponctuation\n",
    "        for punc in punctuation: \n",
    "            doc = doc.replace(punc, ' ')\n",
    "        # remove numbers\n",
    "        for i in range(10):\n",
    "            doc = doc.replace(str(i), ' ')\n",
    "        # remove stop words\n",
    "        for stop_word in stop_words:\n",
    "            doc = doc.replace(' ' + stop_word + ' ', ' ')\n",
    "        # remove single characters and stem the words \n",
    "        doc = [x for x in doc.split() if len(x) > 2]\n",
    "        doc = \" \".join(doc)\n",
    "        # save the result to our list of documents\n",
    "        cleaned_docs.append(doc)\n",
    "        \n",
    "    return cleaned_docs"
   ]
  },
  {
   "cell_type": "code",
   "execution_count": 12,
   "metadata": {},
   "outputs": [
    {
     "name": "stdout",
     "output_type": "stream",
     "text": [
      "abstract mind wandering defined shifts attention task related processing task unrelated thoughts ubiquitous phenomenon negative influence performance productivity many contexts including learning propose next generation learning technologies mechanism detect respond mind wandering real time towards end developed technology automatically detects mind wandering eye gaze learning instructional texts mind wandering detected technology intervenes posing time questions encouraging reading needed multiple rounds iterative refinement summatively compared technology yoked control experiment participants key dependent variable performance post reading comprehension assessment results suggest technology successful correcting comprehension deficits attributed mind wandering sigma specific conditions thereby highlighting potential improve learning attending attention keywords mind wandering gaze tracking student modeling attentionaware introduction despite best efforts write clear engaging paper ch\n"
     ]
    }
   ],
   "source": [
    "# reimport your raw data\n",
    "documents = []\n",
    "\n",
    "for filename in files: \n",
    "    with open (filename, \"r\", encoding='utf-8') as f:\n",
    "        documents.append(f.read())\n",
    "        \n",
    "# clean your files using the function above\n",
    "docs = clean_list_of_documents(documents)\n",
    "\n",
    "# print the first 1000 characters of the first document\n",
    "print(docs[0][:1000])"
   ]
  },
  {
   "cell_type": "markdown",
   "metadata": {},
   "source": [
    "## Step 3 - Build your list of vocabulary"
   ]
  },
  {
   "cell_type": "markdown",
   "metadata": {},
   "source": [
    "This list of words (i.e., the vocabulary) is going to become the columns of your matrix."
   ]
  },
  {
   "cell_type": "code",
   "execution_count": 4,
   "metadata": {},
   "outputs": [],
   "source": [
    "import math\n",
    "import numpy as np"
   ]
  },
  {
   "cell_type": "code",
   "execution_count": 14,
   "metadata": {},
   "outputs": [
    {
     "name": "stdout",
     "output_type": "stream",
     "text": [
      "5676\n"
     ]
    }
   ],
   "source": [
    "# create a function that takes in a list of documents\n",
    "# and returns a set of unique words. Make sure that you\n",
    "# sort the list alphabetically before returning it. \n",
    "\n",
    "def get_vocabulary(docs):\n",
    "    voc = []\n",
    "    for doc in docs:\n",
    "        for word in doc.split():\n",
    "            if word not in voc: \n",
    "                voc.append(word)\n",
    "    voc = list(set(voc))\n",
    "    voc.sort()\n",
    "    return voc\n",
    "\n",
    "# Then print the length of your vocabulary (it should be \n",
    "# around 5500 words)\n",
    "vocabulary = get_vocabulary(docs)\n",
    "print(len(vocabulary))"
   ]
  },
  {
   "cell_type": "markdown",
   "metadata": {},
   "source": [
    "## Step 4 - transform your documents in to 100-words chunks"
   ]
  },
  {
   "cell_type": "code",
   "execution_count": 15,
   "metadata": {},
   "outputs": [],
   "source": [
    "# create a function that takes in a list of documents\n",
    "# and returns a list of 100-words chunk \n",
    "# (with a 25 words overlap between them)\n",
    "# Optional: add two arguments, one for the number of words\n",
    "# in each chunk, and one for the overlap\n",
    "\n",
    "def flatten_and_overlap(docs, window_size=100, overlap=25):\n",
    "    \n",
    "    # create the list of overlapping documents\n",
    "    new_list_of_documents = []\n",
    "    \n",
    "    # flatten everything into one string\n",
    "    flat = \"\"\n",
    "    for doc in docs:\n",
    "        flat += doc\n",
    "    \n",
    "    # split into words\n",
    "    flat = flat.split()\n",
    "\n",
    "    # create chunks of 100 words\n",
    "    high = window_size\n",
    "    while high < len(flat):\n",
    "        low = high - window_size\n",
    "        new_list_of_documents.append(flat[low:high])\n",
    "        high += overlap\n",
    "    return new_list_of_documents\n",
    "\n",
    "chunks = flatten_and_overlap(docs)"
   ]
  },
  {
   "cell_type": "code",
   "execution_count": 16,
   "metadata": {},
   "outputs": [],
   "source": [
    "# create a for loop to double check that each chunk has \n",
    "# a length of 100\n",
    "# Optional: use assert to do this check\n",
    "for chunk in chunks: \n",
    "    assert(len(chunk) == 100)"
   ]
  },
  {
   "cell_type": "markdown",
   "metadata": {},
   "source": [
    "# WEEK 6 - VECTOR MANIPULATION"
   ]
  },
  {
   "cell_type": "markdown",
   "metadata": {},
   "source": [
    "## Step 5 - Create a word by document matrix"
   ]
  },
  {
   "cell_type": "code",
   "execution_count": 17,
   "metadata": {},
   "outputs": [
    {
     "name": "stdout",
     "output_type": "stream",
     "text": [
      "2219\n",
      "5676\n"
     ]
    },
    {
     "data": {
      "text/html": [
       "<div>\n",
       "<style scoped>\n",
       "    .dataframe tbody tr th:only-of-type {\n",
       "        vertical-align: middle;\n",
       "    }\n",
       "\n",
       "    .dataframe tbody tr th {\n",
       "        vertical-align: top;\n",
       "    }\n",
       "\n",
       "    .dataframe thead th {\n",
       "        text-align: right;\n",
       "    }\n",
       "</style>\n",
       "<table border=\"1\" class=\"dataframe\">\n",
       "  <thead>\n",
       "    <tr style=\"text-align: right;\">\n",
       "      <th></th>\n",
       "      <th>\u0000\u0010\u0000</th>\n",
       "      <th>\u0000\u0013\u0000\u0011\u0000</th>\n",
       "      <th>\u0000\u0013\u0000\u0011\u0000\u0018\u0000\u0013</th>\n",
       "      <th>\u0000\u0013\u0000\u0011\u0000\u0018\u0000\u0018</th>\n",
       "      <th>\u0000\u0013\u0000\u0011\u0000\u0019\u0000\u0013</th>\n",
       "      <th>\u0000\u0013\u0000\u0011\u0000\u0019\u0000\u0018</th>\n",
       "      <th>\u0000\u0013\u0000\u0011\u0000\u001a\u0000\u0013</th>\n",
       "      <th>\u0000\u0013\u0000\u0011\u0000\u001a\u0000\u0018</th>\n",
       "      <th>\u0000\u0013\u0000\u0011\u0000\u001a\u0000\u0018\u0000</th>\n",
       "      <th>\u0000\u0013\u0000\u0011\u0000\u001b\u0000\u0013</th>\n",
       "      <th>...</th>\n",
       "      <th>𝑅𝑒𝑐𝑎𝑙𝑙</th>\n",
       "      <th>𝑇𝐹𝑖</th>\n",
       "      <th>𝑔𝑎𝑖𝑛</th>\n",
       "      <th>𝑚𝑒𝑎𝑠𝑢𝑟𝑒</th>\n",
       "      <th>𝑝𝑜𝑠𝑡𝑡𝑒𝑠𝑡</th>\n",
       "      <th>𝑝𝑟𝑒𝑐𝑖𝑠𝑖𝑜𝑛</th>\n",
       "      <th>𝑝𝑟𝑒𝑡𝑒𝑠𝑡</th>\n",
       "      <th>𝑟𝑒𝑐𝑎𝑙𝑙</th>\n",
       "      <th>𝑠𝑐𝑜𝑟𝑒</th>\n",
       "      <th>𝟎𝟒𝟕</th>\n",
       "    </tr>\n",
       "  </thead>\n",
       "  <tbody>\n",
       "    <tr>\n",
       "      <th>0</th>\n",
       "      <td>0</td>\n",
       "      <td>0</td>\n",
       "      <td>0</td>\n",
       "      <td>0</td>\n",
       "      <td>0</td>\n",
       "      <td>0</td>\n",
       "      <td>0</td>\n",
       "      <td>0</td>\n",
       "      <td>0</td>\n",
       "      <td>0</td>\n",
       "      <td>...</td>\n",
       "      <td>0</td>\n",
       "      <td>0</td>\n",
       "      <td>0</td>\n",
       "      <td>0</td>\n",
       "      <td>0</td>\n",
       "      <td>0</td>\n",
       "      <td>0</td>\n",
       "      <td>0</td>\n",
       "      <td>0</td>\n",
       "      <td>0</td>\n",
       "    </tr>\n",
       "    <tr>\n",
       "      <th>1</th>\n",
       "      <td>0</td>\n",
       "      <td>0</td>\n",
       "      <td>0</td>\n",
       "      <td>0</td>\n",
       "      <td>0</td>\n",
       "      <td>0</td>\n",
       "      <td>0</td>\n",
       "      <td>0</td>\n",
       "      <td>0</td>\n",
       "      <td>0</td>\n",
       "      <td>...</td>\n",
       "      <td>0</td>\n",
       "      <td>0</td>\n",
       "      <td>0</td>\n",
       "      <td>0</td>\n",
       "      <td>0</td>\n",
       "      <td>0</td>\n",
       "      <td>0</td>\n",
       "      <td>0</td>\n",
       "      <td>0</td>\n",
       "      <td>0</td>\n",
       "    </tr>\n",
       "    <tr>\n",
       "      <th>2</th>\n",
       "      <td>0</td>\n",
       "      <td>0</td>\n",
       "      <td>0</td>\n",
       "      <td>0</td>\n",
       "      <td>0</td>\n",
       "      <td>0</td>\n",
       "      <td>0</td>\n",
       "      <td>0</td>\n",
       "      <td>0</td>\n",
       "      <td>0</td>\n",
       "      <td>...</td>\n",
       "      <td>0</td>\n",
       "      <td>0</td>\n",
       "      <td>0</td>\n",
       "      <td>0</td>\n",
       "      <td>0</td>\n",
       "      <td>0</td>\n",
       "      <td>0</td>\n",
       "      <td>0</td>\n",
       "      <td>0</td>\n",
       "      <td>0</td>\n",
       "    </tr>\n",
       "    <tr>\n",
       "      <th>3</th>\n",
       "      <td>0</td>\n",
       "      <td>0</td>\n",
       "      <td>0</td>\n",
       "      <td>0</td>\n",
       "      <td>0</td>\n",
       "      <td>0</td>\n",
       "      <td>0</td>\n",
       "      <td>0</td>\n",
       "      <td>0</td>\n",
       "      <td>0</td>\n",
       "      <td>...</td>\n",
       "      <td>0</td>\n",
       "      <td>0</td>\n",
       "      <td>0</td>\n",
       "      <td>0</td>\n",
       "      <td>0</td>\n",
       "      <td>0</td>\n",
       "      <td>0</td>\n",
       "      <td>0</td>\n",
       "      <td>0</td>\n",
       "      <td>0</td>\n",
       "    </tr>\n",
       "    <tr>\n",
       "      <th>4</th>\n",
       "      <td>0</td>\n",
       "      <td>0</td>\n",
       "      <td>0</td>\n",
       "      <td>0</td>\n",
       "      <td>0</td>\n",
       "      <td>0</td>\n",
       "      <td>0</td>\n",
       "      <td>0</td>\n",
       "      <td>0</td>\n",
       "      <td>0</td>\n",
       "      <td>...</td>\n",
       "      <td>0</td>\n",
       "      <td>0</td>\n",
       "      <td>0</td>\n",
       "      <td>0</td>\n",
       "      <td>0</td>\n",
       "      <td>0</td>\n",
       "      <td>0</td>\n",
       "      <td>0</td>\n",
       "      <td>0</td>\n",
       "      <td>0</td>\n",
       "    </tr>\n",
       "  </tbody>\n",
       "</table>\n",
       "<p>5 rows × 5676 columns</p>\n",
       "</div>"
      ],
      "text/plain": [
       "   \u0000\u0010\u0000  \u0000\u0013\u0000\u0011\u0000  \u0000\u0013\u0000\u0011\u0000\u0018\u0000\u0013  \u0000\u0013\u0000\u0011\u0000\u0018\u0000\u0018  \u0000\u0013\u0000\u0011\u0000\u0019\u0000\u0013  \u0000\u0013\u0000\u0011\u0000\u0019\u0000\u0018  \u0000\u0013\u0000\u0011\u0000\u001a\u0000\u0013  \u0000\u0013\u0000\u0011\u0000\u001a\u0000\u0018  \\\n",
       "0    0      0         0         0         0         0         0         0   \n",
       "1    0      0         0         0         0         0         0         0   \n",
       "2    0      0         0         0         0         0         0         0   \n",
       "3    0      0         0         0         0         0         0         0   \n",
       "4    0      0         0         0         0         0         0         0   \n",
       "\n",
       "   \u0000\u0013\u0000\u0011\u0000\u001a\u0000\u0018\u0000  \u0000\u0013\u0000\u0011\u0000\u001b\u0000\u0013 ...   𝑅𝑒𝑐𝑎𝑙𝑙  𝑇𝐹𝑖  𝑔𝑎𝑖𝑛  𝑚𝑒𝑎𝑠𝑢𝑟𝑒  𝑝𝑜𝑠𝑡𝑡𝑒𝑠𝑡  𝑝𝑟𝑒𝑐𝑖𝑠𝑖𝑜𝑛  \\\n",
       "0          0         0 ...        0    0     0        0         0          0   \n",
       "1          0         0 ...        0    0     0        0         0          0   \n",
       "2          0         0 ...        0    0     0        0         0          0   \n",
       "3          0         0 ...        0    0     0        0         0          0   \n",
       "4          0         0 ...        0    0     0        0         0          0   \n",
       "\n",
       "   𝑝𝑟𝑒𝑡𝑒𝑠𝑡  𝑟𝑒𝑐𝑎𝑙𝑙  𝑠𝑐𝑜𝑟𝑒  𝟎𝟒𝟕  \n",
       "0        0       0      0    0  \n",
       "1        0       0      0    0  \n",
       "2        0       0      0    0  \n",
       "3        0       0      0    0  \n",
       "4        0       0      0    0  \n",
       "\n",
       "[5 rows x 5676 columns]"
      ]
     },
     "execution_count": 17,
     "metadata": {},
     "output_type": "execute_result"
    }
   ],
   "source": [
    "# 1) create an empty dataframe using pandas\n",
    "# the number of rows should be the number of segments we have\n",
    "# the number of columns should be size of the vocabulary\n",
    "print(len(chunks))\n",
    "print(len(vocabulary))\n",
    "\n",
    "df_segments = pd.DataFrame(0, index=np.arange(len(chunks)), columns=vocabulary)\n",
    "df_segments.head()"
   ]
  },
  {
   "cell_type": "code",
   "execution_count": 57,
   "metadata": {},
   "outputs": [],
   "source": [
    "# 2) fill out the dataframe with the count of words for each chunk\n",
    "# (use two for loops to iterate through the chunk and the vocabulary)\n",
    "\n",
    "for i,chunk in enumerate(chunks):\n",
    "    for word in chunk:\n",
    "        if word in df_segments.columns:\n",
    "            df_segments.loc[i, word] += 1"
   ]
  },
  {
   "cell_type": "code",
   "execution_count": 58,
   "metadata": {},
   "outputs": [
    {
     "data": {
      "text/plain": [
       "count    2219.000000\n",
       "mean        1.025687\n",
       "std         1.670507\n",
       "min         0.000000\n",
       "25%         0.000000\n",
       "50%         0.000000\n",
       "75%         1.000000\n",
       "max        14.000000\n",
       "Name: data, dtype: float64"
      ]
     },
     "execution_count": 58,
     "metadata": {},
     "output_type": "execute_result"
    }
   ],
   "source": [
    "# 3) Sanity check: make sure that your counts are correct\n",
    "# (e.g., if you know that a words appears often in a document, check that\n",
    "# the number is also high in your dataframe; and vice-versa for low counts)\n",
    "df_segments.data.describe()"
   ]
  },
  {
   "cell_type": "code",
   "execution_count": 39,
   "metadata": {},
   "outputs": [
    {
     "data": {
      "text/html": [
       "<div>\n",
       "<style scoped>\n",
       "    .dataframe tbody tr th:only-of-type {\n",
       "        vertical-align: middle;\n",
       "    }\n",
       "\n",
       "    .dataframe tbody tr th {\n",
       "        vertical-align: top;\n",
       "    }\n",
       "\n",
       "    .dataframe thead th {\n",
       "        text-align: right;\n",
       "    }\n",
       "</style>\n",
       "<table border=\"1\" class=\"dataframe\">\n",
       "  <thead>\n",
       "    <tr style=\"text-align: right;\">\n",
       "      <th></th>\n",
       "      <th>\u0000\u0010\u0000</th>\n",
       "      <th>\u0000\u0013\u0000\u0011\u0000</th>\n",
       "      <th>\u0000\u0013\u0000\u0011\u0000\u0018\u0000\u0013</th>\n",
       "      <th>\u0000\u0013\u0000\u0011\u0000\u0018\u0000\u0018</th>\n",
       "      <th>\u0000\u0013\u0000\u0011\u0000\u0019\u0000\u0013</th>\n",
       "      <th>\u0000\u0013\u0000\u0011\u0000\u0019\u0000\u0018</th>\n",
       "      <th>\u0000\u0013\u0000\u0011\u0000\u001a\u0000\u0013</th>\n",
       "      <th>\u0000\u0013\u0000\u0011\u0000\u001a\u0000\u0018</th>\n",
       "      <th>\u0000\u0013\u0000\u0011\u0000\u001a\u0000\u0018\u0000</th>\n",
       "      <th>\u0000\u0013\u0000\u0011\u0000\u001b\u0000\u0013</th>\n",
       "      <th>...</th>\n",
       "      <th>𝑅𝑒𝑐𝑎𝑙𝑙</th>\n",
       "      <th>𝑇𝐹𝑖</th>\n",
       "      <th>𝑔𝑎𝑖𝑛</th>\n",
       "      <th>𝑚𝑒𝑎𝑠𝑢𝑟𝑒</th>\n",
       "      <th>𝑝𝑜𝑠𝑡𝑡𝑒𝑠𝑡</th>\n",
       "      <th>𝑝𝑟𝑒𝑐𝑖𝑠𝑖𝑜𝑛</th>\n",
       "      <th>𝑝𝑟𝑒𝑡𝑒𝑠𝑡</th>\n",
       "      <th>𝑟𝑒𝑐𝑎𝑙𝑙</th>\n",
       "      <th>𝑠𝑐𝑜𝑟𝑒</th>\n",
       "      <th>𝟎𝟒𝟕</th>\n",
       "    </tr>\n",
       "  </thead>\n",
       "  <tbody>\n",
       "    <tr>\n",
       "      <th>0</th>\n",
       "      <td>0</td>\n",
       "      <td>0</td>\n",
       "      <td>0</td>\n",
       "      <td>0</td>\n",
       "      <td>0</td>\n",
       "      <td>0</td>\n",
       "      <td>0</td>\n",
       "      <td>0</td>\n",
       "      <td>0</td>\n",
       "      <td>0</td>\n",
       "      <td>...</td>\n",
       "      <td>0</td>\n",
       "      <td>0</td>\n",
       "      <td>0</td>\n",
       "      <td>0</td>\n",
       "      <td>0</td>\n",
       "      <td>0</td>\n",
       "      <td>0</td>\n",
       "      <td>0</td>\n",
       "      <td>0</td>\n",
       "      <td>0</td>\n",
       "    </tr>\n",
       "    <tr>\n",
       "      <th>1</th>\n",
       "      <td>0</td>\n",
       "      <td>0</td>\n",
       "      <td>0</td>\n",
       "      <td>0</td>\n",
       "      <td>0</td>\n",
       "      <td>0</td>\n",
       "      <td>0</td>\n",
       "      <td>0</td>\n",
       "      <td>0</td>\n",
       "      <td>0</td>\n",
       "      <td>...</td>\n",
       "      <td>0</td>\n",
       "      <td>0</td>\n",
       "      <td>0</td>\n",
       "      <td>0</td>\n",
       "      <td>0</td>\n",
       "      <td>0</td>\n",
       "      <td>0</td>\n",
       "      <td>0</td>\n",
       "      <td>0</td>\n",
       "      <td>0</td>\n",
       "    </tr>\n",
       "    <tr>\n",
       "      <th>2</th>\n",
       "      <td>0</td>\n",
       "      <td>0</td>\n",
       "      <td>0</td>\n",
       "      <td>0</td>\n",
       "      <td>0</td>\n",
       "      <td>0</td>\n",
       "      <td>0</td>\n",
       "      <td>0</td>\n",
       "      <td>0</td>\n",
       "      <td>0</td>\n",
       "      <td>...</td>\n",
       "      <td>0</td>\n",
       "      <td>0</td>\n",
       "      <td>0</td>\n",
       "      <td>0</td>\n",
       "      <td>0</td>\n",
       "      <td>0</td>\n",
       "      <td>0</td>\n",
       "      <td>0</td>\n",
       "      <td>0</td>\n",
       "      <td>0</td>\n",
       "    </tr>\n",
       "    <tr>\n",
       "      <th>3</th>\n",
       "      <td>0</td>\n",
       "      <td>0</td>\n",
       "      <td>0</td>\n",
       "      <td>0</td>\n",
       "      <td>0</td>\n",
       "      <td>0</td>\n",
       "      <td>0</td>\n",
       "      <td>0</td>\n",
       "      <td>0</td>\n",
       "      <td>0</td>\n",
       "      <td>...</td>\n",
       "      <td>0</td>\n",
       "      <td>0</td>\n",
       "      <td>0</td>\n",
       "      <td>0</td>\n",
       "      <td>0</td>\n",
       "      <td>0</td>\n",
       "      <td>0</td>\n",
       "      <td>0</td>\n",
       "      <td>0</td>\n",
       "      <td>0</td>\n",
       "    </tr>\n",
       "    <tr>\n",
       "      <th>4</th>\n",
       "      <td>0</td>\n",
       "      <td>0</td>\n",
       "      <td>0</td>\n",
       "      <td>0</td>\n",
       "      <td>0</td>\n",
       "      <td>0</td>\n",
       "      <td>0</td>\n",
       "      <td>0</td>\n",
       "      <td>0</td>\n",
       "      <td>0</td>\n",
       "      <td>...</td>\n",
       "      <td>0</td>\n",
       "      <td>0</td>\n",
       "      <td>0</td>\n",
       "      <td>0</td>\n",
       "      <td>0</td>\n",
       "      <td>0</td>\n",
       "      <td>0</td>\n",
       "      <td>0</td>\n",
       "      <td>0</td>\n",
       "      <td>0</td>\n",
       "    </tr>\n",
       "  </tbody>\n",
       "</table>\n",
       "<p>5 rows × 5676 columns</p>\n",
       "</div>"
      ],
      "text/plain": [
       "   \u0000\u0010\u0000  \u0000\u0013\u0000\u0011\u0000  \u0000\u0013\u0000\u0011\u0000\u0018\u0000\u0013  \u0000\u0013\u0000\u0011\u0000\u0018\u0000\u0018  \u0000\u0013\u0000\u0011\u0000\u0019\u0000\u0013  \u0000\u0013\u0000\u0011\u0000\u0019\u0000\u0018  \u0000\u0013\u0000\u0011\u0000\u001a\u0000\u0013  \u0000\u0013\u0000\u0011\u0000\u001a\u0000\u0018  \\\n",
       "0    0      0         0         0         0         0         0         0   \n",
       "1    0      0         0         0         0         0         0         0   \n",
       "2    0      0         0         0         0         0         0         0   \n",
       "3    0      0         0         0         0         0         0         0   \n",
       "4    0      0         0         0         0         0         0         0   \n",
       "\n",
       "   \u0000\u0013\u0000\u0011\u0000\u001a\u0000\u0018\u0000  \u0000\u0013\u0000\u0011\u0000\u001b\u0000\u0013 ...   𝑅𝑒𝑐𝑎𝑙𝑙  𝑇𝐹𝑖  𝑔𝑎𝑖𝑛  𝑚𝑒𝑎𝑠𝑢𝑟𝑒  𝑝𝑜𝑠𝑡𝑡𝑒𝑠𝑡  𝑝𝑟𝑒𝑐𝑖𝑠𝑖𝑜𝑛  \\\n",
       "0          0         0 ...        0    0     0        0         0          0   \n",
       "1          0         0 ...        0    0     0        0         0          0   \n",
       "2          0         0 ...        0    0     0        0         0          0   \n",
       "3          0         0 ...        0    0     0        0         0          0   \n",
       "4          0         0 ...        0    0     0        0         0          0   \n",
       "\n",
       "   𝑝𝑟𝑒𝑡𝑒𝑠𝑡  𝑟𝑒𝑐𝑎𝑙𝑙  𝑠𝑐𝑜𝑟𝑒  𝟎𝟒𝟕  \n",
       "0        0       0      0    0  \n",
       "1        0       0      0    0  \n",
       "2        0       0      0    0  \n",
       "3        0       0      0    0  \n",
       "4        0       0      0    0  \n",
       "\n",
       "[5 rows x 5676 columns]"
      ]
     },
     "execution_count": 39,
     "metadata": {},
     "output_type": "execute_result"
    }
   ],
   "source": [
    "# 4) Putting it together: create a function that takes a list of documents\n",
    "# and a vocabulary as arguments, and returns a dataframe with the counts\n",
    "# of words: \n",
    "def word_count(texts, vocab):\n",
    "    df = pd.DataFrame(0, index=np.arange(len(texts)), columns=vocab)\n",
    "    for i,text in enumerate(texts):\n",
    "        for word in text:\n",
    "            if word in df.columns:\n",
    "                df.loc[i, word] += 1\n",
    "    return df\n",
    "\n",
    "dfseg = word_count(chunks, vocabulary)\n",
    "dfseg.head()\n",
    "dfseg.data.describe()\n",
    "\n",
    "#the data description is a little bit off- max is 12 instead of 14, mean is a little lower. but I'm not sure why?"
   ]
  },
  {
   "cell_type": "markdown",
   "metadata": {},
   "source": [
    "## Step 6 - Weight word frequency"
   ]
  },
  {
   "cell_type": "code",
   "execution_count": 5,
   "metadata": {},
   "outputs": [
    {
     "data": {
      "text/html": [
       "<div>\n",
       "<style scoped>\n",
       "    .dataframe tbody tr th:only-of-type {\n",
       "        vertical-align: middle;\n",
       "    }\n",
       "\n",
       "    .dataframe tbody tr th {\n",
       "        vertical-align: top;\n",
       "    }\n",
       "\n",
       "    .dataframe thead th {\n",
       "        text-align: right;\n",
       "    }\n",
       "</style>\n",
       "<table border=\"1\" class=\"dataframe\">\n",
       "  <thead>\n",
       "    <tr style=\"text-align: right;\">\n",
       "      <th></th>\n",
       "      <th>Unnamed: 0</th>\n",
       "      <th>Unnamed: 1</th>\n",
       "      <th>Unnamed: 2</th>\n",
       "      <th>Unnamed: 3</th>\n",
       "      <th>Unnamed: 4</th>\n",
       "      <th>Unnamed: 5</th>\n",
       "      <th>Unnamed: 6</th>\n",
       "      <th>Unnamed: 7</th>\n",
       "      <th>Unnamed: 8</th>\n",
       "      <th>Unnamed: 9</th>\n",
       "      <th>...</th>\n",
       "      <th>𝑅𝑒𝑐𝑎𝑙𝑙</th>\n",
       "      <th>𝑇𝐹𝑖</th>\n",
       "      <th>𝑔𝑎𝑖𝑛</th>\n",
       "      <th>𝑚𝑒𝑎𝑠𝑢𝑟𝑒</th>\n",
       "      <th>𝑝𝑜𝑠𝑡𝑡𝑒𝑠𝑡</th>\n",
       "      <th>𝑝𝑟𝑒𝑐𝑖𝑠𝑖𝑜𝑛</th>\n",
       "      <th>𝑝𝑟𝑒𝑡𝑒𝑠𝑡</th>\n",
       "      <th>𝑟𝑒𝑐𝑎𝑙𝑙</th>\n",
       "      <th>𝑠𝑐𝑜𝑟𝑒</th>\n",
       "      <th>𝟎𝟒𝟕</th>\n",
       "    </tr>\n",
       "  </thead>\n",
       "  <tbody>\n",
       "    <tr>\n",
       "      <th>0</th>\n",
       "      <td>0</td>\n",
       "      <td>0</td>\n",
       "      <td>0</td>\n",
       "      <td>0</td>\n",
       "      <td>0</td>\n",
       "      <td>0</td>\n",
       "      <td>0</td>\n",
       "      <td>0</td>\n",
       "      <td>0</td>\n",
       "      <td>0</td>\n",
       "      <td>...</td>\n",
       "      <td>0</td>\n",
       "      <td>0</td>\n",
       "      <td>0</td>\n",
       "      <td>0</td>\n",
       "      <td>0</td>\n",
       "      <td>0</td>\n",
       "      <td>0</td>\n",
       "      <td>0</td>\n",
       "      <td>0</td>\n",
       "      <td>0</td>\n",
       "    </tr>\n",
       "    <tr>\n",
       "      <th>1</th>\n",
       "      <td>1</td>\n",
       "      <td>0</td>\n",
       "      <td>0</td>\n",
       "      <td>0</td>\n",
       "      <td>0</td>\n",
       "      <td>0</td>\n",
       "      <td>0</td>\n",
       "      <td>0</td>\n",
       "      <td>0</td>\n",
       "      <td>0</td>\n",
       "      <td>...</td>\n",
       "      <td>0</td>\n",
       "      <td>0</td>\n",
       "      <td>0</td>\n",
       "      <td>0</td>\n",
       "      <td>0</td>\n",
       "      <td>0</td>\n",
       "      <td>0</td>\n",
       "      <td>0</td>\n",
       "      <td>0</td>\n",
       "      <td>0</td>\n",
       "    </tr>\n",
       "    <tr>\n",
       "      <th>2</th>\n",
       "      <td>2</td>\n",
       "      <td>0</td>\n",
       "      <td>0</td>\n",
       "      <td>0</td>\n",
       "      <td>0</td>\n",
       "      <td>0</td>\n",
       "      <td>0</td>\n",
       "      <td>0</td>\n",
       "      <td>0</td>\n",
       "      <td>0</td>\n",
       "      <td>...</td>\n",
       "      <td>0</td>\n",
       "      <td>0</td>\n",
       "      <td>0</td>\n",
       "      <td>0</td>\n",
       "      <td>0</td>\n",
       "      <td>0</td>\n",
       "      <td>0</td>\n",
       "      <td>0</td>\n",
       "      <td>0</td>\n",
       "      <td>0</td>\n",
       "    </tr>\n",
       "    <tr>\n",
       "      <th>3</th>\n",
       "      <td>3</td>\n",
       "      <td>0</td>\n",
       "      <td>0</td>\n",
       "      <td>0</td>\n",
       "      <td>0</td>\n",
       "      <td>0</td>\n",
       "      <td>0</td>\n",
       "      <td>0</td>\n",
       "      <td>0</td>\n",
       "      <td>0</td>\n",
       "      <td>...</td>\n",
       "      <td>0</td>\n",
       "      <td>0</td>\n",
       "      <td>0</td>\n",
       "      <td>0</td>\n",
       "      <td>0</td>\n",
       "      <td>0</td>\n",
       "      <td>0</td>\n",
       "      <td>0</td>\n",
       "      <td>0</td>\n",
       "      <td>0</td>\n",
       "    </tr>\n",
       "    <tr>\n",
       "      <th>4</th>\n",
       "      <td>4</td>\n",
       "      <td>0</td>\n",
       "      <td>0</td>\n",
       "      <td>0</td>\n",
       "      <td>0</td>\n",
       "      <td>0</td>\n",
       "      <td>0</td>\n",
       "      <td>0</td>\n",
       "      <td>0</td>\n",
       "      <td>0</td>\n",
       "      <td>...</td>\n",
       "      <td>0</td>\n",
       "      <td>0</td>\n",
       "      <td>0</td>\n",
       "      <td>0</td>\n",
       "      <td>0</td>\n",
       "      <td>0</td>\n",
       "      <td>0</td>\n",
       "      <td>0</td>\n",
       "      <td>0</td>\n",
       "      <td>0</td>\n",
       "    </tr>\n",
       "  </tbody>\n",
       "</table>\n",
       "<p>5 rows × 5677 columns</p>\n",
       "</div>"
      ],
      "text/plain": [
       "   Unnamed: 0  Unnamed: 1  Unnamed: 2  Unnamed: 3  Unnamed: 4  Unnamed: 5  \\\n",
       "0           0           0           0           0           0           0   \n",
       "1           1           0           0           0           0           0   \n",
       "2           2           0           0           0           0           0   \n",
       "3           3           0           0           0           0           0   \n",
       "4           4           0           0           0           0           0   \n",
       "\n",
       "   Unnamed: 6  Unnamed: 7  Unnamed: 8  Unnamed: 9 ...   𝑅𝑒𝑐𝑎𝑙𝑙  𝑇𝐹𝑖  𝑔𝑎𝑖𝑛  \\\n",
       "0           0           0           0           0 ...        0    0     0   \n",
       "1           0           0           0           0 ...        0    0     0   \n",
       "2           0           0           0           0 ...        0    0     0   \n",
       "3           0           0           0           0 ...        0    0     0   \n",
       "4           0           0           0           0 ...        0    0     0   \n",
       "\n",
       "   𝑚𝑒𝑎𝑠𝑢𝑟𝑒  𝑝𝑜𝑠𝑡𝑡𝑒𝑠𝑡  𝑝𝑟𝑒𝑐𝑖𝑠𝑖𝑜𝑛  𝑝𝑟𝑒𝑡𝑒𝑠𝑡  𝑟𝑒𝑐𝑎𝑙𝑙  𝑠𝑐𝑜𝑟𝑒  𝟎𝟒𝟕  \n",
       "0        0         0          0        0       0      0    0  \n",
       "1        0         0          0        0       0      0    0  \n",
       "2        0         0          0        0       0      0    0  \n",
       "3        0         0          0        0       0      0    0  \n",
       "4        0         0          0        0       0      0    0  \n",
       "\n",
       "[5 rows x 5677 columns]"
      ]
     },
     "execution_count": 5,
     "metadata": {},
     "output_type": "execute_result"
    }
   ],
   "source": [
    "#load data as a csv file\n",
    "df_seg = pd.read_csv(\"./word-by-chunk.csv\")\n",
    "df_seg.head()"
   ]
  },
  {
   "cell_type": "code",
   "execution_count": 6,
   "metadata": {},
   "outputs": [],
   "source": [
    "# 5) create a function that adds one to the current cell and takes its log\n",
    "# IF the value in the cell is not zero\n",
    "def log_transform(cell):\n",
    "    if cell != 0:\n",
    "        cell = np.log1p(cell)\n",
    "    return cell"
   ]
  },
  {
   "cell_type": "code",
   "execution_count": 7,
   "metadata": {},
   "outputs": [],
   "source": [
    "# 6) use the \"applymap\" function of the dataframe to apply the function \n",
    "# above to each cell of the table\n",
    "df_log = df_seg.applymap(log_transform)"
   ]
  },
  {
   "cell_type": "code",
   "execution_count": 8,
   "metadata": {},
   "outputs": [
    {
     "name": "stdout",
     "output_type": "stream",
     "text": [
      "count    2219.000000\n",
      "mean        0.998648\n",
      "std         1.599002\n",
      "min         0.000000\n",
      "25%         0.000000\n",
      "50%         0.000000\n",
      "75%         1.000000\n",
      "max        12.000000\n",
      "Name: data, dtype: float64\n",
      "count    2219.000000\n",
      "mean        1.104552\n",
      "std         1.774194\n",
      "min         0.000000\n",
      "25%         0.000000\n",
      "50%         0.000000\n",
      "75%         2.000000\n",
      "max        12.000000\n",
      "Name: learning, dtype: float64\n",
      "count    2219.000000\n",
      "mean        0.070753\n",
      "std         0.323342\n",
      "min         0.000000\n",
      "25%         0.000000\n",
      "50%         0.000000\n",
      "75%         0.000000\n",
      "max         3.000000\n",
      "Name: education, dtype: float64\n",
      "2.5649493574615367\n",
      "1.3862943611198906\n",
      "count    2219.000000\n",
      "mean        0.471216\n",
      "std         0.614158\n",
      "min         0.000000\n",
      "25%         0.000000\n",
      "50%         0.000000\n",
      "75%         0.693147\n",
      "max         2.564949\n",
      "Name: data, dtype: float64\n",
      "count    2219.000000\n",
      "mean        0.505046\n",
      "std         0.638218\n",
      "min         0.000000\n",
      "25%         0.000000\n",
      "50%         0.000000\n",
      "75%         1.098612\n",
      "max         2.564949\n",
      "Name: learning, dtype: float64\n",
      "count    2219.000000\n",
      "mean        0.044080\n",
      "std         0.189487\n",
      "min         0.000000\n",
      "25%         0.000000\n",
      "50%         0.000000\n",
      "75%         0.000000\n",
      "max         1.386294\n",
      "Name: education, dtype: float64\n"
     ]
    }
   ],
   "source": [
    "# 7) check that the numbers in the resulting matrix look accurate;\n",
    "# print the value before and after applying the function above\n",
    "print(df_seg['data'].describe())\n",
    "print(df_seg['learning'].describe())\n",
    "print(df_seg['education'].describe())\n",
    "print(np.log1p(12))\n",
    "print(np.log1p(3))\n",
    "\n",
    "print(df_log['data'].describe())\n",
    "print(df_log['learning'].describe())\n",
    "print(df_log['education'].describe())\n",
    "\n",
    "\n"
   ]
  },
  {
   "cell_type": "markdown",
   "metadata": {},
   "source": [
    "## Step 7 - Matrix normalization"
   ]
  },
  {
   "cell_type": "markdown",
   "metadata": {},
   "source": [
    "### 8) look at the image below; why do you think that we need to normalize our data before clustering in this particular case? \n",
    "Because the axes aren't labeled it is hard to interpret this graph. But my best guess is that the x-axis represents one word's values and the y-axis represents another word. The values of these two variables are not comparable because they are different scales. Is moving from 0 to 1 on the x axis akin to moving from 0 to 1000 on the y axis? Do we want to represent the variation in terms of standard deviations instead o the units of measure? If so, we should standardize them. If they are substantively meaningfully different scales though I don't think you want to normalize/standardize them. But since we want to more easily compare them and as stated bewlow it's common practice, we are going to do it."
   ]
  },
  {
   "cell_type": "markdown",
   "metadata": {},
   "source": [
    "<img src=\"https://i.stack.imgur.com/N2unM.png\" />"
   ]
  },
  {
   "cell_type": "markdown",
   "metadata": {},
   "source": [
    "In general, it's common practice to normalize your data before clustering - so that variables are comparable."
   ]
  },
  {
   "cell_type": "markdown",
   "metadata": {},
   "source": [
    "### 9) describe how the min-max normalization works: \n",
    "Here we are transforming the values in order to represent them as their relative position along the range of possible values. We end up with a fraction that represents its position relative to other values. It's almost like thinking of the range as a number line, and the resulting transformed variable is the position on that line as a fraction (e.g. 6/10 if the numbers range from 1 to 11 and the value is a 7)."
   ]
  },
  {
   "cell_type": "markdown",
   "metadata": {},
   "source": [
    "<img src=\"https://docs.microsoft.com/en-us/azure/machine-learning/studio-module-reference/media/aml-normalization-minmax.png\" />"
   ]
  },
  {
   "cell_type": "markdown",
   "metadata": {},
   "source": [
    "### 10) describe how normalizing using a z-score works:\n",
    "Z-scores represent the values in standard deviation units. A 0 z-score indicates the value is the mean of the variable, and a 1 means it is 1-standard deviation above the mean. So you're comparing values based on their relative value in terms of standard deviation."
   ]
  },
  {
   "cell_type": "markdown",
   "metadata": {},
   "source": [
    "<img src=\"https://cdn-images-1.medium.com/max/1600/1*13XKCXQc7eabfZbRzkvGvA.gif\"/>"
   ]
  },
  {
   "cell_type": "markdown",
   "metadata": {},
   "source": [
    "### 11) describe how normalizing to unit norm works\n",
    "From the mathworld page below: \"The unit vector obtained by normalizing the normal \n",
    "vector (i.e., dividing a nonzero normal vector by its vector norm) is the unit normal vector, often known \n",
    "simply as the \"unit normal.\" Care should be taken to not confuse the terms \"vector norm\" (length of vector), \n",
    "\"normal vector\" (perpendicular vector) and \"normalized vector\" (unit-length vector).\n",
    "\n",
    "The normal vector is commonly denoted N or n, with a hat sometimes (but not always) added (i.e., N^^ and n^^) \n",
    "to explicitly indicate a unit normal vector.\"\n",
    "\n",
    "Conceptually, what we are doing is standardizing each vector to have the same length, and so only comparing vectors to each other based on their angle, which can be compared to each other more easily using cosines when they are the same lengths. We're also reducing the amount of information contained in the vector, so we only look at the one parameter (angle) instead of comparing them on two parameters. As the description above describes, this is done on a vector-by-vector basis, not like other transformationt that may standardize a variable based on the entire sample. The vector is divided by its \"vector norm\" or magnitude."
   ]
  },
  {
   "cell_type": "markdown",
   "metadata": {},
   "source": [
    "Resources: \n",
    "* https://scikit-learn.org/stable/modules/generated/sklearn.preprocessing.Normalizer.html#sklearn.preprocessing.Normalizer\n",
    "* http://mathworld.wolfram.com/NormalVector.html"
   ]
  },
  {
   "cell_type": "markdown",
   "metadata": {},
   "source": [
    "We are going to work with some pre-made normalization functions from sklearn (feel free to skim this page):\n",
    "* https://scikit-learn.org/stable/modules/classes.html#module-sklearn.preprocessing"
   ]
  },
  {
   "cell_type": "code",
   "execution_count": 8,
   "metadata": {},
   "outputs": [
    {
     "name": "stdout",
     "output_type": "stream",
     "text": [
      "count    2219.000000\n",
      "mean        0.505046\n",
      "std         0.638218\n",
      "min         0.000000\n",
      "25%         0.000000\n",
      "50%         0.000000\n",
      "75%         1.098612\n",
      "max         2.564949\n",
      "Name: learning, dtype: float64\n",
      "count    2219.000000\n",
      "mean        0.050257\n",
      "std         0.063434\n",
      "min         0.000000\n",
      "25%         0.000000\n",
      "50%         0.000000\n",
      "75%         0.104009\n",
      "max         0.252719\n",
      "Name: learning, dtype: float64\n"
     ]
    }
   ],
   "source": [
    "# 12) since we are working with vectors, apply the Normalizer from \n",
    "# sklearn.preprocessing to our dataframe. Print a few values \n",
    "# before and after to make sure you've applied the normalization\n",
    "from sklearn.preprocessing import Normalizer\n",
    "normalizer = Normalizer()\n",
    "scaled = normalizer.fit_transform(df_log)\n",
    "df_normalized = pd.DataFrame(scaled,columns=df_log.columns)\n",
    "print(df_log.learning.describe())\n",
    "print(df_normalized.learning.describe())\n"
   ]
  },
  {
   "cell_type": "code",
   "execution_count": 9,
   "metadata": {},
   "outputs": [],
   "source": [
    "# 13) create a function that takes a dataframe as argument and where a second\n",
    "# argument is the type of normalization (MinMaxScaler, Normalizer, StandardScaler)\n",
    "# and returns the normalized dataframe\n",
    "from sklearn.preprocessing import MinMaxScaler, Normalizer, StandardScaler\n",
    "def normed(scaler, dataframe):\n",
    "    from sklearn.preprocessing import MinMaxScaler, Normalizer, StandardScaler\n",
    "    normalizer = scaler\n",
    "    scaled = normalizer.fit_transform(dataframe)\n",
    "    return pd.DataFrame(scaled,columns=dataframe.columns)\n"
   ]
  },
  {
   "cell_type": "markdown",
   "metadata": {},
   "source": [
    "## Step 8 - Deviation Vectors"
   ]
  },
  {
   "cell_type": "markdown",
   "metadata": {},
   "source": [
    "<img src=\"https://www.dropbox.com/s/9f73r7pk7bi7vh9/deviation_vectors.png?dl=1\" />"
   ]
  },
  {
   "cell_type": "code",
   "execution_count": 10,
   "metadata": {},
   "outputs": [
    {
     "name": "stdout",
     "output_type": "stream",
     "text": [
      "       Unnamed: 0  Unnamed: 1  Unnamed: 2  Unnamed: 3  Unnamed: 4  Unnamed: 5  \\\n",
      "2215     0.721278    0.000000    0.000000    0.000000    0.000000    0.000000   \n",
      "2216     0.720558    0.000000    0.000000    0.000000    0.000000    0.000000   \n",
      "2217     0.722922    0.000000    0.000000    0.000000    0.000000    0.000000   \n",
      "2218     0.722308    0.000000    0.000000    0.000000    0.000000    0.000000   \n",
      "2219  1481.754891    0.614176    0.575591    0.575591    0.575591    0.575591   \n",
      "\n",
      "      Unnamed: 6  Unnamed: 7  Unnamed: 8  Unnamed: 9    ...       𝑅𝑒𝑐𝑎𝑙𝑙  \\\n",
      "2215    0.000000    0.000000    0.000000    0.000000    ...     0.000000   \n",
      "2216    0.000000    0.000000    0.000000    0.000000    ...     0.000000   \n",
      "2217    0.000000    0.000000    0.000000    0.000000    ...     0.000000   \n",
      "2218    0.000000    0.000000    0.000000    0.000000    ...     0.000000   \n",
      "2219    0.575591    0.575591    0.267249    0.453378    ...     0.271974   \n",
      "\n",
      "           𝑇𝐹𝑖      𝑔𝑎𝑖𝑛   𝑚𝑒𝑎𝑠𝑢𝑟𝑒  𝑝𝑜𝑠𝑡𝑡𝑒𝑠𝑡  𝑝𝑟𝑒𝑐𝑖𝑠𝑖𝑜𝑛   𝑝𝑟𝑒𝑡𝑒𝑠𝑡    𝑟𝑒𝑐𝑎𝑙𝑙  \\\n",
      "2215  0.000000  0.000000  0.000000  0.000000   0.000000  0.000000  0.000000   \n",
      "2216  0.000000  0.000000  0.000000  0.000000   0.000000  0.000000  0.000000   \n",
      "2217  0.000000  0.000000  0.000000  0.000000   0.000000  0.000000  0.000000   \n",
      "2218  0.000000  0.000000  0.000000  0.000000   0.000000  0.000000  0.000000   \n",
      "2219  0.275355  0.262186  0.271974  0.262186   0.431069  0.415555  0.431069   \n",
      "\n",
      "         𝑠𝑐𝑜𝑟𝑒       𝟎𝟒𝟕  \n",
      "2215  0.000000  0.000000  \n",
      "2216  0.000000  0.000000  \n",
      "2217  0.000000  0.000000  \n",
      "2218  0.000000  0.000000  \n",
      "2219  0.524372  0.261889  \n",
      "\n",
      "[5 rows x 5677 columns]\n"
     ]
    }
   ],
   "source": [
    "# 14) compute the sum of the vectors\n",
    "\n",
    "df_normalized = df_normalized.append(df_normalized.sum(), ignore_index=True) \n",
    "print(df_normalized.tail())\n"
   ]
  },
  {
   "cell_type": "code",
   "execution_count": 17,
   "metadata": {},
   "outputs": [
    {
     "name": "stdout",
     "output_type": "stream",
     "text": [
      "Unnamed: 0     0.957048\n",
      "Unnamed: 1     0.000397\n",
      "Unnamed: 2     0.000372\n",
      "Unnamed: 3     0.000372\n",
      "Unnamed: 4     0.000372\n",
      "Unnamed: 5     0.000372\n",
      "Unnamed: 6     0.000372\n",
      "Unnamed: 7     0.000372\n",
      "Unnamed: 8     0.000173\n",
      "Unnamed: 9     0.000293\n",
      "Unnamed: 10    0.000173\n",
      "Unnamed: 11    0.000293\n",
      "Unnamed: 12    0.000173\n",
      "Unnamed: 13    0.000293\n",
      "Unnamed: 14    0.000174\n",
      "Unnamed: 15    0.000174\n",
      "Unnamed: 16    0.000397\n",
      "Unnamed: 17    0.000174\n",
      "Unnamed: 18    0.000397\n",
      "Unnamed: 19    0.000174\n",
      "Unnamed: 20    0.000372\n",
      "Unnamed: 21    0.000397\n",
      "Unnamed: 22    0.000174\n",
      "Unnamed: 23    0.000370\n",
      "abilities      0.000946\n",
      "ability        0.006914\n",
      "able           0.003354\n",
      "abnormal       0.000178\n",
      "absence        0.000385\n",
      "absent         0.000351\n",
      "                 ...   \n",
      "ztransform     0.000357\n",
      "zurich         0.000178\n",
      "µθt            0.000279\n",
      "école          0.000193\n",
      "αjt            0.000190\n",
      "αxt            0.000302\n",
      "θlj            0.000354\n",
      "λkak           0.000180\n",
      "λkz            0.000342\n",
      "σθt            0.000279\n",
      "‘amount        0.000197\n",
      "‘homework      0.000192\n",
      "‘large         0.000197\n",
      "‘lives         0.000184\n",
      "∈gt            0.000283\n",
      "∑𝐿𝑗            0.000282\n",
      "∑𝑘𝑗            0.000179\n",
      "⊂si            0.000191\n",
      "𝐼𝐷𝐹            0.000178\n",
      "𝑃𝑟𝑒𝑐𝑖𝑠𝑖𝑜𝑛      0.000176\n",
      "𝑅𝑒𝑐𝑎𝑙𝑙         0.000176\n",
      "𝑇𝐹𝑖            0.000178\n",
      "𝑔𝑎𝑖𝑛           0.000169\n",
      "𝑚𝑒𝑎𝑠𝑢𝑟𝑒        0.000176\n",
      "𝑝𝑜𝑠𝑡𝑡𝑒𝑠𝑡       0.000169\n",
      "𝑝𝑟𝑒𝑐𝑖𝑠𝑖𝑜𝑛      0.000278\n",
      "𝑝𝑟𝑒𝑡𝑒𝑠𝑡        0.000268\n",
      "𝑟𝑒𝑐𝑎𝑙𝑙         0.000278\n",
      "𝑠𝑐𝑜𝑟𝑒          0.000339\n",
      "𝟎𝟒𝟕            0.000169\n",
      "Name: 0, Length: 5677, dtype: float64\n"
     ]
    }
   ],
   "source": [
    "# 15) normalize the vector (find its average)\n",
    "v_sum = pd.DataFrame(df_normalized.loc[df_normalized.index==2219])\n",
    "#print(v_sum)\n",
    "v_avg = normed(Normalizer(), v_sum)\n",
    "#print(v_avg)\n",
    "print(v_avg.loc[0])"
   ]
  },
  {
   "cell_type": "code",
   "execution_count": 24,
   "metadata": {},
   "outputs": [
    {
     "name": "stdout",
     "output_type": "stream",
     "text": [
      "2220\n"
     ]
    }
   ],
   "source": [
    "print(len(df_normalized))"
   ]
  },
  {
   "cell_type": "code",
   "execution_count": 26,
   "metadata": {},
   "outputs": [
    {
     "name": "stdout",
     "output_type": "stream",
     "text": [
      "   Unnamed: 0  Unnamed: 1  Unnamed: 2  Unnamed: 3  Unnamed: 4  Unnamed: 5  \\\n",
      "0    0.957048    0.000397    0.000372    0.000372    0.000372    0.000372   \n",
      "1    0.861267    0.000397    0.000372    0.000372    0.000372    0.000372   \n",
      "2    0.805303    0.000397    0.000372    0.000372    0.000372    0.000372   \n",
      "3    0.767092    0.000397    0.000372    0.000372    0.000372    0.000372   \n",
      "4    0.738476    0.000397    0.000372    0.000372    0.000372    0.000372   \n",
      "\n",
      "   Unnamed: 6  Unnamed: 7  Unnamed: 8  Unnamed: 9    ...       𝑅𝑒𝑐𝑎𝑙𝑙  \\\n",
      "0    0.000372    0.000372    0.000173    0.000293    ...     0.000176   \n",
      "1    0.000372    0.000372    0.000173    0.000293    ...     0.000176   \n",
      "2    0.000372    0.000372    0.000173    0.000293    ...     0.000176   \n",
      "3    0.000372    0.000372    0.000173    0.000293    ...     0.000176   \n",
      "4    0.000372    0.000372    0.000173    0.000293    ...     0.000176   \n",
      "\n",
      "        𝑇𝐹𝑖      𝑔𝑎𝑖𝑛   𝑚𝑒𝑎𝑠𝑢𝑟𝑒  𝑝𝑜𝑠𝑡𝑡𝑒𝑠𝑡  𝑝𝑟𝑒𝑐𝑖𝑠𝑖𝑜𝑛   𝑝𝑟𝑒𝑡𝑒𝑠𝑡    𝑟𝑒𝑐𝑎𝑙𝑙  \\\n",
      "0  0.000178  0.000169  0.000176  0.000169   0.000278  0.000268  0.000278   \n",
      "1  0.000178  0.000169  0.000176  0.000169   0.000278  0.000268  0.000278   \n",
      "2  0.000178  0.000169  0.000176  0.000169   0.000278  0.000268  0.000278   \n",
      "3  0.000178  0.000169  0.000176  0.000169   0.000278  0.000268  0.000278   \n",
      "4  0.000178  0.000169  0.000176  0.000169   0.000278  0.000268  0.000278   \n",
      "\n",
      "      𝑠𝑐𝑜𝑟𝑒       𝟎𝟒𝟕  \n",
      "0  0.000339  0.000169  \n",
      "1  0.000339  0.000169  \n",
      "2  0.000339  0.000169  \n",
      "3  0.000339  0.000169  \n",
      "4  0.000339  0.000169  \n",
      "\n",
      "[5 rows x 5677 columns]\n",
      "      Unnamed: 0  Unnamed: 1  Unnamed: 2  Unnamed: 3  Unnamed: 4  Unnamed: 5  \\\n",
      "2214    0.234974    0.000397    0.000372    0.000372    0.000372    0.000372   \n",
      "2215    0.235770    0.000397    0.000372    0.000372    0.000372    0.000372   \n",
      "2216    0.236490    0.000397    0.000372    0.000372    0.000372    0.000372   \n",
      "2217    0.234126    0.000397    0.000372    0.000372    0.000372    0.000372   \n",
      "2218    0.234740    0.000397    0.000372    0.000372    0.000372    0.000372   \n",
      "\n",
      "      Unnamed: 6  Unnamed: 7  Unnamed: 8  Unnamed: 9    ...       𝑅𝑒𝑐𝑎𝑙𝑙  \\\n",
      "2214    0.000372    0.000372    0.000173    0.000293    ...     0.000176   \n",
      "2215    0.000372    0.000372    0.000173    0.000293    ...     0.000176   \n",
      "2216    0.000372    0.000372    0.000173    0.000293    ...     0.000176   \n",
      "2217    0.000372    0.000372    0.000173    0.000293    ...     0.000176   \n",
      "2218    0.000372    0.000372    0.000173    0.000293    ...     0.000176   \n",
      "\n",
      "           𝑇𝐹𝑖      𝑔𝑎𝑖𝑛   𝑚𝑒𝑎𝑠𝑢𝑟𝑒  𝑝𝑜𝑠𝑡𝑡𝑒𝑠𝑡  𝑝𝑟𝑒𝑐𝑖𝑠𝑖𝑜𝑛   𝑝𝑟𝑒𝑡𝑒𝑠𝑡    𝑟𝑒𝑐𝑎𝑙𝑙  \\\n",
      "2214  0.000178  0.000169  0.000176  0.000169   0.000278  0.000268  0.000278   \n",
      "2215  0.000178  0.000169  0.000176  0.000169   0.000278  0.000268  0.000278   \n",
      "2216  0.000178  0.000169  0.000176  0.000169   0.000278  0.000268  0.000278   \n",
      "2217  0.000178  0.000169  0.000176  0.000169   0.000278  0.000268  0.000278   \n",
      "2218  0.000178  0.000169  0.000176  0.000169   0.000278  0.000268  0.000278   \n",
      "\n",
      "         𝑠𝑐𝑜𝑟𝑒       𝟎𝟒𝟕  \n",
      "2214  0.000339  0.000169  \n",
      "2215  0.000339  0.000169  \n",
      "2216  0.000339  0.000169  \n",
      "2217  0.000339  0.000169  \n",
      "2218  0.000339  0.000169  \n",
      "\n",
      "[5 rows x 5677 columns]\n"
     ]
    }
   ],
   "source": [
    "# 16) take each vector and subtract its components along v_avg\n",
    "\n",
    "\n",
    "#make a copy of the normalized dataframe without the total row\n",
    "df_deviation=df_normalized[:2219].copy()\n",
    "# for each row in the normalized dataframe, subtract it from the average vector which only has one row:\n",
    "for row in range(2219):\n",
    "    df_deviation.loc[row]= v_avg.loc[0] - df_deviation.loc[row]\n",
    "    \n",
    "print(df_deviation.head())\n",
    "print(df_deviation.tail())"
   ]
  },
  {
   "cell_type": "code",
   "execution_count": 14,
   "metadata": {},
   "outputs": [],
   "source": [
    "# 17) put the code above in a function that takes in a dataframe as an argument\n",
    "# and computes deviation vectors of each row (=document)\n",
    "def normed(scaler, dataframe):\n",
    "    from sklearn.preprocessing import MinMaxScaler, Normalizer, StandardScaler\n",
    "    normalizer = scaler\n",
    "    scaled = normalizer.fit_transform(dataframe)\n",
    "    return pd.DataFrame(scaled,columns=dataframe.columns)\n",
    "\n",
    "def deviation(dataframe):\n",
    "    dataframe.append(dataframe.sum(), ignore_index=True) \n",
    "    v_sum = pd.DataFrame(df_normalized.loc[df_normalized.index==-1])\n",
    "    v_avg = normed(Normalizer(), v_sum)\n",
    "    for row in range(len(dataframe)):\n",
    "        dataframe.loc[row]= v_avg.loc[0] - df_deviation.loc[row]\n",
    "    return dataframe"
   ]
  },
  {
   "cell_type": "markdown",
   "metadata": {},
   "source": [
    "# WEEK 7 - CLUSTERING"
   ]
  },
  {
   "cell_type": "markdown",
   "metadata": {},
   "source": [
    "## Step 9 - Clustering"
   ]
  },
  {
   "cell_type": "markdown",
   "metadata": {},
   "source": [
    "## Step 10 - Visualizing the results"
   ]
  },
  {
   "cell_type": "markdown",
   "metadata": {},
   "source": [
    "## Final Step - Putting it all together: "
   ]
  },
  {
   "cell_type": "code",
   "execution_count": 17,
   "metadata": {},
   "outputs": [],
   "source": [
    "# in python code, our goal is to recreate the steps above as functions\n",
    "# so that we can just one line to run topic modeling on a list of \n",
    "# documents: \n",
    "def ExtractTopicsVSM(documents, numTopics):\n",
    "    ''' this functions takes in a list of documents (strings), \n",
    "        runs topic modeling (as implemented by Sherin, 2013)\n",
    "        and returns the clustering results, the matrix used \n",
    "        for clustering a visualization '''\n",
    "    \n",
    "    # step 2: clean up the documents\n",
    "    documents = clean_list_of_documents(documents)\n",
    "    \n",
    "    # step 3: let's build the vocabulary of these docs\n",
    "    vocabulary = get_vocabulary(documents)\n",
    "    \n",
    "    # step 4: we build our list of 100-words overlapping fragments\n",
    "    documents = flatten_and_overlap(documents)\n",
    "    \n",
    "    # step 5: we convert the chunks into a matrix\n",
    "    matrix = docs_by_words_matrix(documents, vocabulary)\n",
    "    \n",
    "    # step 6: we weight the frequency of words (count = 1 + log(count))\n",
    "    matrix = one_plus_log_mat(matrix, documents, vocabulary)\n",
    "    \n",
    "    # step 7: we normalize the matrix\n",
    "    matrix = normalize(matrix)\n",
    "    \n",
    "    # step 8: we compute deviation vectors\n",
    "    matrix = transform_deviation_vectors(matrix, documents)\n",
    "    \n",
    "    # step 9: we apply a clustering algorithm to find topics\n",
    "    results_clustering = cluster_matrix(matrix)\n",
    "    \n",
    "    # step 10: we create a visualization of the topics\n",
    "    visualization = visualize_clusters(results_clustering, vocabulary)\n",
    "    \n",
    "    # finally, we return the clustering results, the matrix, and a visualization\n",
    "    return results_clustering, matrix, visualization"
   ]
  }
 ],
 "metadata": {
  "kernelspec": {
   "display_name": "Python 3",
   "language": "python",
   "name": "python3"
  },
  "language_info": {
   "codemirror_mode": {
    "name": "ipython",
    "version": 3
   },
   "file_extension": ".py",
   "mimetype": "text/x-python",
   "name": "python",
   "nbconvert_exporter": "python",
   "pygments_lexer": "ipython3",
   "version": "3.7.1"
  },
  "varInspector": {
   "cols": {
    "lenName": 16,
    "lenType": 16,
    "lenVar": 40
   },
   "kernels_config": {
    "python": {
     "delete_cmd_postfix": "",
     "delete_cmd_prefix": "del ",
     "library": "var_list.py",
     "varRefreshCmd": "print(var_dic_list())"
    },
    "r": {
     "delete_cmd_postfix": ") ",
     "delete_cmd_prefix": "rm(",
     "library": "var_list.r",
     "varRefreshCmd": "cat(var_dic_list()) "
    }
   },
   "types_to_exclude": [
    "module",
    "function",
    "builtin_function_or_method",
    "instance",
    "_Feature"
   ],
   "window_display": false
  }
 },
 "nbformat": 4,
 "nbformat_minor": 2
}
